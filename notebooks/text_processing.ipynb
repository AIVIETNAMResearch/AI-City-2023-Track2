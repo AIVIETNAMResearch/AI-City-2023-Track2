{
 "cells": [
  {
   "cell_type": "markdown",
   "metadata": {},
   "source": [
    "# 1. Subject augment"
   ]
  },
  {
   "cell_type": "code",
   "execution_count": 1,
   "metadata": {},
   "outputs": [],
   "source": [
    "import json\n",
    "import sys\n",
    "import spacy\n",
    "from spacy.matcher import Matcher\n",
    "\n",
    "# !python3 -m spacy download en_core_web_sm\n",
    "nlp = spacy.load(\"en_core_web_sm\")"
   ]
  },
  {
   "cell_type": "code",
   "execution_count": 14,
   "metadata": {},
   "outputs": [],
   "source": [
    "def subject_aug(train_path):\n",
    "    # with open(sys.argv[1]) as f:\n",
    "    with open(train_path) as f:\n",
    "        train = json.load(f)\n",
    "\n",
    "    track_ids = list(train.keys())\n",
    "    for id_ in track_ids:\n",
    "        new_text = \"\"\n",
    "        for i, text in enumerate(train[id_][\"nl\"]):\n",
    "            doc = nlp(text)\n",
    "\n",
    "            for chunk in doc.noun_chunks:\n",
    "                nb = chunk.text\n",
    "                break\n",
    "            train[id_][\"nl\"][i] = nb+'. '+train[id_][\"nl\"][i]\n",
    "            new_text += nb+'.'\n",
    "            if i < 2:\n",
    "                new_text += ' '\n",
    "        train[id_][\"nl\"].append(new_text)\n",
    "\n",
    "    with open(train_path.replace(\".json\", \"_subjectaug.json\"), \"w\") as f:\n",
    "        json.dump(train, f, indent=5)\n",
    "\n",
    "subject_aug('../data/test_queries.json')"
   ]
  },
  {
   "cell_type": "markdown",
   "metadata": {},
   "source": [
    "# 2. Motion augment"
   ]
  },
  {
   "cell_type": "code",
   "execution_count": 4,
   "metadata": {},
   "outputs": [],
   "source": [
    "matcher = Matcher(nlp.vocab)\n",
    "pattern = [\n",
    "    [{\"POS\": \"VERB\", \"op\": \"+\"}, {\"LOWER\": \"straight\"}],\n",
    "    [{\"POS\": \"VERB\", \"op\": \"+\"}, {\"LOWER\": \"left\"}],\n",
    "    [{\"POS\": \"VERB\", \"op\": \"+\"}, {\"LOWER\": \"right\"}],\n",
    "    [{\"POS\": \"VERB\", \"op\": \"+\"}, {\"LOWER\": \"ahead\"}],\n",
    "    [{\"LOWER\": \"stop\"}],\n",
    "    [{\"LOWER\": \"stops\"}],\n",
    "          ]\n",
    "matcher.add(\"motion-chunks\", pattern)\n",
    "\n",
    "def motion_aug(train_path):\n",
    "    with open(train_path) as f:\n",
    "        train = json.load(f)\n",
    "\n",
    "    track_ids = list(train.keys())\n",
    "    for id_ in track_ids:\n",
    "        new_text = \"\"\n",
    "        for i, text in enumerate(train[id_][\"nl\"]):\n",
    "            doc = nlp(text)\n",
    "\n",
    "            # car aug\n",
    "            for chunk in doc.noun_chunks:\n",
    "                nb = chunk.text\n",
    "                break\n",
    "            train[id_][\"nl\"][i] = nb + '. ' + train[id_][\"nl\"][i]\n",
    "            new_text += nb+'.'\n",
    "            if i < 2:\n",
    "                new_text += ' '\n",
    "\n",
    "            # motion aug\n",
    "            matches = matcher(doc)\n",
    "            for match_id, start, end in matches:\n",
    "                span = doc[start:end]\n",
    "                train[id_][\"nl\"][i] = train[id_][\"nl\"][i] + ' ' + span.text + '.'\n",
    "\n",
    "        train[id_][\"nl\"].append(new_text)\n",
    "\n",
    "    with open(train_path.replace(\".json\", \"_motionaug.json\"), \"w\") as f:\n",
    "        json.dump(train, f, indent=4)\n",
    "\n",
    "motion_aug('../data/test_queries.json')"
   ]
  },
  {
   "cell_type": "markdown",
   "metadata": {},
   "source": [
    "# 3. Localization augment"
   ]
  },
  {
   "cell_type": "code",
   "execution_count": 16,
   "metadata": {},
   "outputs": [],
   "source": [
    "matcher = Matcher(nlp.vocab)\n",
    "pattern = [\n",
    "    [{\"POS\": \"DET\", \"op\": \"+\"}, {\"LOWER\": \"intersection\"}],\n",
    "]\n",
    "matcher.add(\"location-chunks\", pattern)\n",
    "\n",
    "# run for train and val\n",
    "# train_path = 'data2021/train.json'\n",
    "# # train_path = 'data2021/val.json'\n",
    "\n",
    "path = ['data2022/train-tracks.json', 'data2022/train.json', 'data2022/val.json', 'data2022/test-queries.json']\n",
    "\n",
    "\n",
    "def localization_aug(train_path):\n",
    "    # with open(sys.argv[1]) as f:\n",
    "    with open(train_path) as f:\n",
    "        train = json.load(f)\n",
    "\n",
    "    track_ids = list(train.keys())\n",
    "    for id_ in track_ids:\n",
    "        new_text = \"\"\n",
    "        location_dict = dict()\n",
    "        has_location = -1\n",
    "        for i, text in enumerate(train[id_][\"nl\"]):\n",
    "            doc = nlp(text)\n",
    "\n",
    "            # car aug\n",
    "            for chunk in doc.noun_chunks:\n",
    "                nb = chunk.text\n",
    "                break\n",
    "            train[id_][\"nl\"][i] = nb + '. ' + train[id_][\"nl\"][i]\n",
    "            new_text += nb + '.'\n",
    "            if i < 2:\n",
    "                new_text += ' '\n",
    "\n",
    "            # location aug\n",
    "            matches = matcher(doc)\n",
    "            location_text = ''\n",
    "            for match_id, start, end in matches:\n",
    "                span = doc[start:end]\n",
    "                has_location = i\n",
    "                location_text += ' ' + span.text + '.'\n",
    "                train[id_][\"nl\"][i] = train[id_][\"nl\"][i] + ' ' + span.text + '.'\n",
    "            # location_dict[i] = location_text\n",
    "\n",
    "        # # if exist One, broadcast others\n",
    "        # if has_location != -1:\n",
    "        #     for i, text in enumerate(train[id_][\"nl\"]):\n",
    "        #         if location_dict[i] == '':\n",
    "        #             train[id_][\"nl\"][i] = train[id_][\"nl\"][i] + location_dict[has_location]\n",
    "        #         else:\n",
    "        #             train[id_][\"nl\"][i] = train[id_][\"nl\"][i] + location_dict[i]\n",
    "\n",
    "        train[id_][\"nl\"].append(new_text)\n",
    "\n",
    "    with open(train_path.replace(\".json\", \"_locationaug.json\"), \"w\") as f:\n",
    "        json.dump(train, f, indent=4)\n",
    "\n",
    "localization_aug('../data/test_queries.json')"
   ]
  },
  {
   "cell_type": "markdown",
   "metadata": {},
   "source": [
    "# 5. Subject + motion + localization augment"
   ]
  },
  {
   "cell_type": "code",
   "execution_count": 3,
   "metadata": {},
   "outputs": [],
   "source": [
    "matcher = Matcher(nlp.vocab)\n",
    "\n",
    "# moiton\n",
    "pattern = [\n",
    "    [{\"POS\": \"VERB\", \"op\": \"+\"}, {\"LOWER\": \"straight\"}],\n",
    "    [{\"POS\": \"VERB\", \"op\": \"+\"}, {\"LOWER\": \"left\"}],\n",
    "    [{\"POS\": \"VERB\", \"op\": \"+\"}, {\"LOWER\": \"right\"}],\n",
    "    [{\"POS\": \"VERB\", \"op\": \"+\"}, {\"LOWER\": \"ahead\"}],\n",
    "    [{\"LOWER\": \"stop\"}],\n",
    "    [{\"LOWER\": \"stops\"}],\n",
    "          ]\n",
    "matcher.add(\"motion-chunks\", pattern)\n",
    "\n",
    "# localization\n",
    "pattern = [\n",
    "    [{\"POS\": \"DET\", \"op\": \"+\"}, {\"LOWER\": \"intersection\"}],\n",
    "]\n",
    "matcher.add(\"location-chunks\", pattern)\n",
    "\n",
    "\n",
    "# subject + motion + localization augment\n",
    "def triple_aug(train_path):\n",
    "    with open(train_path) as f:\n",
    "        train = json.load(f)\n",
    "\n",
    "    track_ids = list(train.keys())\n",
    "    for id_ in track_ids:\n",
    "        new_text = \"\"\n",
    "        for i, text in enumerate(train[id_][\"nl\"]):\n",
    "            doc = nlp(text)\n",
    "\n",
    "            # car aug\n",
    "            for chunk in doc.noun_chunks:\n",
    "                nb = chunk.text\n",
    "                break\n",
    "            train[id_][\"nl\"][i] = nb + '. ' + train[id_][\"nl\"][i]\n",
    "            new_text += nb+'.'\n",
    "            if i < 2:\n",
    "                new_text += ' '\n",
    "\n",
    "            # motion aug\n",
    "            matches = matcher(doc)\n",
    "            for match_id, start, end in matches:\n",
    "                span = doc[start:end]\n",
    "                train[id_][\"nl\"][i] = train[id_][\"nl\"][i] + ' ' + span.text + '.'\n",
    "\n",
    "        train[id_][\"nl\"].append(new_text)\n",
    "\n",
    "    with open(train_path.replace(\".json\", \"_tripleaug.json\"), \"w\") as f:\n",
    "        json.dump(train, f, indent=4)\n",
    "\n",
    "triple_aug('../data/test_queries.json')"
   ]
  },
  {
   "cell_type": "markdown",
   "metadata": {},
   "source": [
    "# 4. Bert embedding"
   ]
  },
  {
   "cell_type": "code",
   "execution_count": 8,
   "metadata": {},
   "outputs": [
    {
     "name": "stderr",
     "output_type": "stream",
     "text": [
      "Some weights of the model checkpoint at roberta-base were not used when initializing RobertaModel: ['lm_head.bias', 'lm_head.dense.bias', 'lm_head.decoder.weight', 'lm_head.dense.weight', 'lm_head.layer_norm.bias', 'lm_head.layer_norm.weight']\n",
      "- This IS expected if you are initializing RobertaModel from the checkpoint of a model trained on another task or with another architecture (e.g. initializing a BertForSequenceClassification model from a BertForPreTraining model).\n",
      "- This IS NOT expected if you are initializing RobertaModel from the checkpoint of a model that you expect to be exactly identical (initializing a BertForSequenceClassification model from a BertForSequenceClassification model).\n"
     ]
    }
   ],
   "source": [
    "import torch\n",
    "from transformers import AutoModel, AutoTokenizer\n",
    "from transformers import RobertaTokenizer, RobertaConfig, RobertaModel\n",
    "\n",
    "model = RobertaModel.from_pretrained(\"roberta-base\")\n",
    "tokenizer = RobertaTokenizer.from_pretrained(\"roberta-base\")"
   ]
  },
  {
   "cell_type": "code",
   "execution_count": 18,
   "metadata": {},
   "outputs": [
    {
     "name": "stdout",
     "output_type": "stream",
     "text": [
      "tensor([[   0,  250, 2440, 8517, 2484, 4719, 1359,   23,   41, 8088,    4,    2]])\n",
      "tensor([[[-0.0862,  0.0928, -0.0275,  ..., -0.0733, -0.0166, -0.0590],\n",
      "         [-0.0826,  0.1099, -0.1222,  ..., -0.1203, -0.0812,  0.1023],\n",
      "         [-0.1330, -0.0406, -0.1798,  ...,  0.4730, -0.1230,  0.0430],\n",
      "         ...,\n",
      "         [-0.0048,  0.1972,  0.0708,  ...,  0.0869,  0.0936, -0.0588],\n",
      "         [-0.0739,  0.0877, -0.0582,  ..., -0.0979, -0.0127, -0.0943],\n",
      "         [-0.0942,  0.1347, -0.0880,  ...,  0.2339, -0.0330, -0.0013]]])\n",
      "torch.Size([1, 12, 768])\n"
     ]
    }
   ],
   "source": [
    "# INPUT TEXT MUST BE ALREADY WORD-SEGMENTED!\n",
    "sentence = 'A blue pickup truck keeps straight at an intersection.'  \n",
    "\n",
    "# input_ids =  tokenizer(sentence)['input_ids']\n",
    "\n",
    "input_ids = torch.tensor([tokenizer.encode(sentence)])\n",
    "print(input_ids)\n",
    "\n",
    "with torch.no_grad():\n",
    "    features = model(input_ids)  # Models outputs are now tuples\n",
    "\n",
    "print(features.last_hidden_state)\n",
    "print(features.last_hidden_state.shape)"
   ]
  },
  {
   "cell_type": "code",
   "execution_count": null,
   "metadata": {},
   "outputs": [],
   "source": []
  }
 ],
 "metadata": {
  "kernelspec": {
   "display_name": "Python 3.7.15 ('venv3.7')",
   "language": "python",
   "name": "python3"
  },
  "language_info": {
   "codemirror_mode": {
    "name": "ipython",
    "version": 3
   },
   "file_extension": ".py",
   "mimetype": "text/x-python",
   "name": "python",
   "nbconvert_exporter": "python",
   "pygments_lexer": "ipython3",
   "version": "3.7.15"
  },
  "orig_nbformat": 4,
  "vscode": {
   "interpreter": {
    "hash": "c3c265441ca6b38b144a9680bb5d31bec8652d58dca3e5e4b4de1878809c2ce6"
   }
  }
 },
 "nbformat": 4,
 "nbformat_minor": 2
}
